{
 "cells": [
  {
   "cell_type": "markdown",
   "metadata": {},
   "source": [
    "TextMining Task 1\n",
    "Create a Python notebook that \n",
    "\n",
    "1. Reads the file\n",
    "2. Splits the file into subdocuments using regular expressions\n",
    "3. Finds number of mentions of 'customers', 'investors', 'stakeholders' (accounting for different ways of expressing these concepts) in each (sub)document.\n",
    "\n",
    "Tabulate these mentions\n",
    "\n",
    "4. Finds the expressions of causality in all documents, lists all of them in a file, e.g. 'pooling customer needs reduces the quantity of products' (perhaps expressed differently).\n",
    "\n",
    " \n",
    "\n",
    "Some resources:\n",
    "\n",
    "http://cmdlinetips.com/2011/08/three-ways-to-read-a-text-file-line-by-line-in-python/ \n",
    "\n",
    "https://docs.python.org/3/howto/regex.html "
   ]
  },
  {
   "cell_type": "code",
   "execution_count": null,
   "metadata": {
    "scrolled": false
   },
   "outputs": [],
   "source": [
    "import numpy\n",
    "f= open(\"abs1.txt\",\"r+\")\n",
    "data = f.read()\n",
    "data"
   ]
  },
  {
   "cell_type": "code",
   "execution_count": null,
   "metadata": {},
   "outputs": [],
   "source": []
  }
 ],
 "metadata": {
  "kernelspec": {
   "display_name": "Python 3",
   "language": "python",
   "name": "python3"
  },
  "language_info": {
   "codemirror_mode": {
    "name": "ipython",
    "version": 3
   },
   "file_extension": ".py",
   "mimetype": "text/x-python",
   "name": "python",
   "nbconvert_exporter": "python",
   "pygments_lexer": "ipython3",
   "version": "3.6.4"
  }
 },
 "nbformat": 4,
 "nbformat_minor": 2
}
